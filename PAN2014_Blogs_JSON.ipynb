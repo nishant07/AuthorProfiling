{
 "cells": [
  {
   "cell_type": "code",
   "execution_count": 1,
   "metadata": {
    "collapsed": false
   },
   "outputs": [],
   "source": [
    "import os, re\n",
    "import nltk, sklearn\n",
    "import pandas as pd\n",
    "import xml.etree.ElementTree as ET\n",
    "from bs4 import BeautifulSoup as BS\n",
    "import json"
   ]
  },
  {
   "cell_type": "code",
   "execution_count": 4,
   "metadata": {
    "collapsed": false
   },
   "outputs": [
    {
     "name": "stdout",
     "output_type": "stream",
     "text": [
      "C:\\Users\\shahn\\Documents\\AuthorProfiling\\AuthorProfiling\n",
      "148\n",
      "['0044bf0a3b4fdb88798235d1352f5325.xml', '049a61c8481194920950bf2411e9f721.xml', '0745bfb436637124afa2c14ebe7b55ce.xml', '0a012eb53f5e7bad0691c9a0fcb761d6.xml', '0a485d9bc555d607f43264a186fb2396.xml']\n"
     ]
    }
   ],
   "source": [
    "print os.getcwd()\n",
    "file_path = \"G:\\\\author profiling\\\\pan14-author-profiling-training-corpus-english-blogs-2014-04-16\\\\\"\n",
    "#os.chdir(file_path)\n",
    "files = os.listdir(file_path)\n",
    "print len(files)\n",
    "print files[:5]"
   ]
  },
  {
   "cell_type": "code",
   "execution_count": 7,
   "metadata": {
    "collapsed": false
   },
   "outputs": [
    {
     "name": "stderr",
     "output_type": "stream",
     "text": [
      "C:\\Anaconda2\\lib\\site-packages\\ipykernel\\__main__.py:1: ParserWarning: Falling back to the 'python' engine because the 'c' engine does not support regex separators (separators > 1 char and different from '\\s+' are interpreted as regex); you can avoid this warning by specifying engine='python'.\n",
      "  if __name__ == '__main__':\n"
     ]
    },
    {
     "data": {
      "text/html": [
       "<div>\n",
       "<table border=\"1\" class=\"dataframe\">\n",
       "  <thead>\n",
       "    <tr style=\"text-align: right;\">\n",
       "      <th></th>\n",
       "      <th>0</th>\n",
       "      <th>1</th>\n",
       "      <th>2</th>\n",
       "    </tr>\n",
       "  </thead>\n",
       "  <tbody>\n",
       "    <tr>\n",
       "      <th>0</th>\n",
       "      <td>69dcc34685484753917caabc186c8ee8</td>\n",
       "      <td>MALE</td>\n",
       "      <td>25-34</td>\n",
       "    </tr>\n",
       "    <tr>\n",
       "      <th>1</th>\n",
       "      <td>f88316ce3babd449f686dfbfcea929d3</td>\n",
       "      <td>FEMALE</td>\n",
       "      <td>50-64</td>\n",
       "    </tr>\n",
       "    <tr>\n",
       "      <th>2</th>\n",
       "      <td>7a2db29d490c056dbbaba6170380848e</td>\n",
       "      <td>MALE</td>\n",
       "      <td>35-49</td>\n",
       "    </tr>\n",
       "    <tr>\n",
       "      <th>3</th>\n",
       "      <td>91ecc62e3cbf4dbe55f006dcb1dcf1ce</td>\n",
       "      <td>MALE</td>\n",
       "      <td>25-34</td>\n",
       "    </tr>\n",
       "    <tr>\n",
       "      <th>4</th>\n",
       "      <td>6d5aaaa46480f919e85f286523221796</td>\n",
       "      <td>FEMALE</td>\n",
       "      <td>35-49</td>\n",
       "    </tr>\n",
       "  </tbody>\n",
       "</table>\n",
       "</div>"
      ],
      "text/plain": [
       "                                  0       1      2\n",
       "0  69dcc34685484753917caabc186c8ee8    MALE  25-34\n",
       "1  f88316ce3babd449f686dfbfcea929d3  FEMALE  50-64\n",
       "2  7a2db29d490c056dbbaba6170380848e    MALE  35-49\n",
       "3  91ecc62e3cbf4dbe55f006dcb1dcf1ce    MALE  25-34\n",
       "4  6d5aaaa46480f919e85f286523221796  FEMALE  35-49"
      ]
     },
     "execution_count": 7,
     "metadata": {},
     "output_type": "execute_result"
    }
   ],
   "source": [
    "truth_df = pd.read_csv(file_path+files[-1], sep=\":::\", header=None)\n",
    "truth_df.head()"
   ]
  },
  {
   "cell_type": "code",
   "execution_count": null,
   "metadata": {
    "collapsed": true
   },
   "outputs": [],
   "source": []
  },
  {
   "cell_type": "code",
   "execution_count": 9,
   "metadata": {
    "collapsed": false
   },
   "outputs": [
    {
     "name": "stdout",
     "output_type": "stream",
     "text": [
      "0044bf0a3b4fdb88798235d1352f5325.xml\n",
      "“Supper Club entertainment is back”, says Buck FOR IMMEDIATE RELEASE — Press/Bookings ABPR: 1-800-380-2825, October 13, 2013 Abbe Buck, a vintage jazz and traditional pop singer who is a standard-bearer if the Great American Songbook, will take her tunes to … Continue reading →\n",
      "\n",
      "Fred Net Radio to host “live” internet broadcasts of vocalist Abbe Buck, who will be playing tunes and talking about the Great American Songbook every Wednesday from, 1pm – 2pm EST. FOR IMMEDIATE RELEASE –October 2, 2013- (Frederickburg, VA): FredNetRadio.com, … Continue reading →\n",
      "\n",
      "HAVEN FROM THE STORM Homeward Bound Telethon to Air on Sunday, November 10th from 7-11PM ET/PT on Military Channel Presented by the Haven From the Storm Foundation -The program will be simulcast on FredNetRadio (www.frednetradio.com). http://corporate.discovery.com/discovery-news/alan-alda-and-joe-mantegna-host-homeward-bound-tel/ THE MILITARY CHANNEL: Alan … Continue reading →\n",
      "\n",
      "SHARON CLARK PERFORMING AT 2013 NEW YORK MUSIC IMPROV FESTIVAL (Festival Date Sunday, October 20th, to Benefit Gilda’s Club of NYC) Contact: Abbe Buck, ABPR Here By Email  or by Phone/text: (703) 629-3183 FB/Twitter: Abbe Buck For IMMEDIATE RELEASE, WASHINGTON, … Continue reading →\n",
      "\n",
      "Huffington Post: Kenny Barron’s Piano, Sharon Clark’s Vocals and James Carter’s Horn at the 22nd Annual Jazz Foundation of America’s Loft Party By Regina Weinreich   ((( Kudos to Sharon Clark))) … Continue reading →\n",
      "\n",
      "Abbe Buck PR – Promoting the Artist A publicist promotes projects for many corporations and individuals, but in many instances, the focus is on the artist. He or she handles public relations duties as well as marketing strategies. A publicist … Continue reading →\n",
      "\n",
      "Fredericksburg,VA, November 11, 2013: The Courtyard Marriott of Fredericksburg Virginia’s Historic District is having a special pre-Thanksgiving Day dinner with all the trimmings. The hotel is getting ready for the holidays, and the chef from the Marriott’s Bistro is offering … Continue reading →\n",
      "\n",
      "I’d like to briefly discuss three of the many reasons that you need PR assistance. You have been promoted on your job and you want to be noticed for your achievement. You have recently become engaged. You are starting a … Continue reading →\n",
      "\n",
      "This is how Wikipedia describes “Pro Bono”: “Pro bono publico (English: for the public good; usually shortened to pro bono) is a Latin phrase for professional work undertaken voluntarily and without payment or at a reduced fee as a public … Continue reading →\n",
      "\n",
      "If you’re a sculptor, painter, photographer, craftsperson, musician, author, cartoonist and/or performance artist, creating your art is step one when it comes to launching a successful career. Once you’ve created your art, you next need to build the bridge between … Continue reading →\n",
      "\n"
     ]
    }
   ],
   "source": [
    "for file in files[:-1]:\n",
    "    author = {}\n",
    "    author['file'] = file\n",
    "    print file\n",
    "    with open(file_path+file) as f:\n",
    "        tree = ET.parse(f)\n",
    "        raw_text = []\n",
    "        for node in tree.iter('document'):\n",
    "            raw_text.append(BS(node.text, 'html.parser').get_text())\n",
    "        print '\\n'.join(raw_text)\n",
    "    break\n",
    "            \n",
    "    "
   ]
  },
  {
   "cell_type": "code",
   "execution_count": 21,
   "metadata": {
    "collapsed": false
   },
   "outputs": [
    {
     "name": "stdout",
     "output_type": "stream",
     "text": [
      "<!DOCTYPE html>\n",
      "\n",
      "<!--[if IE 6]>\n",
      "<html id=\"ie6\" lang=\"en-US\">\n",
      "<![endif]-->\n",
      "<!--[if IE 7]>\n",
      "<html id=\"ie7\" lang=\"en-US\">\n",
      "<![endif]-->\n",
      "<!--[if IE 8]>\n",
      "<html id=\"ie8\" lang=\"en-US\">\n",
      "<![endif]-->\n",
      "<!--[if !(IE 6) & !(IE 7) & !(IE 8)]><!-->\n",
      "<html lang=\"en-US\">\n",
      "<!--<![endif]-->\n",
      "<head>\n",
      "<meta charset=\"utf-8\"/>\n",
      "<meta content=\"width=device-width\" name=\"viewport\"/>\n",
      "<title>Should Corporate Research and Development and Institutions Partner to Bring Innovations to Market? | ITECS</title>\n",
      "<link href=\"http://gmpg.org/xfn/11\" rel=\"profile\"/>\n",
      "<link href=\"https://itecs-innovative.com/blog/wp-content/themes/twentyeleven/style.css\" media=\"all\" rel=\"stylesheet\" type=\"text/css\"/>\n",
      "<link href=\"https://itecs-innovative.com/blog/xmlrpc.php\" rel=\"pingback\"/>\n",
      "<!--[if lt IE 9]>\n",
      "<script src=\"https://itecs-innovative.com/blog/wp-content/themes/twentyeleven/js/html5.js\" type=\"text/javascript\"></script>\n",
      "<![endif]-->\n",
      "<link href=\"https://itecs-innovative.com/blog/feed/\" rel=\"alternate\" title=\"ITECS » Feed\" type=\"application/rss+xml\"/>\n",
      "<link href=\"https://itecs-innovative.com/blog/comments/feed/\" rel=\"alternate\" title=\"ITECS » Comments Feed\" type=\"application/rss+xml\"/>\n",
      "<link href=\"https://itecs-innovative.com/blog/should-corporate-research-and-development-and-institutions-partner-to-bring-innovations-to-market/feed/\" rel=\"alternate\" title=\"ITECS » Should Corporate Research and Development and Institutions Partner to Bring Innovations to Market? Comments Feed\" type=\"application/rss+xml\"/>\n",
      "<script type=\"text/javascript\">\n",
      "\t\t\twindow._wpemojiSettings = {\"baseUrl\":\"https:\\/\\/s.w.org\\/images\\/core\\/emoji\\/72x72\\/\",\"ext\":\".png\",\"source\":{\"concatemoji\":\"https:\\/\\/itecs-innovative.com\\/blog\\/wp-includes\\/js\\/wp-emoji-release.min.js?ver=4.5.4\"}};\n",
      "\t\t\t!function(a,b,c){function d(a){var c,d,e,f=b.createElement(\"canvas\"),g=f.getContext&&f.getContext(\"2d\"),h=String.fromCharCode;if(!g||!g.fillText)return!1;switch(g.textBaseline=\"top\",g.font=\"600 32px Arial\",a){case\"flag\":return g.fillText(h(55356,56806,55356,56826),0,0),f.toDataURL().length>3e3;case\"diversity\":return g.fillText(h(55356,57221),0,0),c=g.getImageData(16,16,1,1).data,d=c[0]+\",\"+c[1]+\",\"+c[2]+\",\"+c[3],g.fillText(h(55356,57221,55356,57343),0,0),c=g.getImageData(16,16,1,1).data,e=c[0]+\",\"+c[1]+\",\"+c[2]+\",\"+c[3],d!==e;case\"simple\":return g.fillText(h(55357,56835),0,0),0!==g.getImageData(16,16,1,1).data[0];case\"unicode8\":return g.fillText(h(55356,57135),0,0),0!==g.getImageData(16,16,1,1).data[0]}return!1}function e(a){var c=b.createElement(\"script\");c.src=a,c.type=\"text/javascript\",b.getElementsByTagName(\"head\")[0].appendChild(c)}var f,g,h,i;for(i=Array(\"simple\",\"flag\",\"unicode8\",\"diversity\"),c.supports={everything:!0,everythingExceptFlag:!0},h=0;h<i.length;h++)c.supports[i[h]]=d(i[h]),c.supports.everything=c.supports.everything&&c.supports[i[h]],\"flag\"!==i[h]&&(c.supports.everythingExceptFlag=c.supports.everythingExceptFlag&&c.supports[i[h]]);c.supports.everythingExceptFlag=c.supports.everythingExceptFlag&&!c.supports.flag,c.DOMReady=!1,c.readyCallback=function(){c.DOMReady=!0},c.supports.everything||(g=function(){c.readyCallback()},b.addEventListener?(b.addEventListener(\"DOMContentLoaded\",g,!1),a.addEventListener(\"load\",g,!1)):(a.attachEvent(\"onload\",g),b.attachEvent(\"onreadystatechange\",function(){\"complete\"===b.readyState&&c.readyCallback()})),f=c.source||{},f.concatemoji?e(f.concatemoji):f.wpemoji&&f.twemoji&&(e(f.twemoji),e(f.wpemoji)))}(window,document,window._wpemojiSettings);\n",
      "\t\t</script>\n",
      "<style type=\"text/css\">\n",
      "img.wp-smiley,\n",
      "img.emoji {\n",
      "\tdisplay: inline !important;\n",
      "\tborder: none !important;\n",
      "\tbox-shadow: none !important;\n",
      "\theight: 1em !important;\n",
      "\twidth: 1em !important;\n",
      "\tmargin: 0 .07em !important;\n",
      "\tvertical-align: -0.1em !important;\n",
      "\tbackground: none !important;\n",
      "\tpadding: 0 !important;\n",
      "}\n",
      "</style>\n",
      "<link href=\"https://itecs-innovative.com/blog/wp-json/\" rel=\"https://api.w.org/\"/>\n",
      "<link href=\"https://itecs-innovative.com/blog/xmlrpc.php?rsd\" rel=\"EditURI\" title=\"RSD\" type=\"application/rsd+xml\"/>\n",
      "<link href=\"https://itecs-innovative.com/blog/wp-includes/wlwmanifest.xml\" rel=\"wlwmanifest\" type=\"application/wlwmanifest+xml\"/>\n",
      "<link href=\"https://itecs-innovative.com/blog/best-practices-for-technology-partnership-collaboration-agreements/\" rel=\"prev\" title=\"Best Practices for Technology Partnership Collaboration Agreements\"/>\n",
      "<link href=\"https://itecs-innovative.com/blog/the-importance-of-developing-external-partners-to-spur-innovation/\" rel=\"next\" title=\"The Importance of Developing External Partners to Spur Innovation\"/>\n",
      "<meta content=\"WordPress 4.5.4\" name=\"generator\"/>\n",
      "<link href=\"https://itecs-innovative.com/blog/should-corporate-research-and-development-and-institutions-partner-to-bring-innovations-to-market/\" rel=\"canonical\"/>\n",
      "<link href=\"https://itecs-innovative.com/blog/?p=255\" rel=\"shortlink\"/>\n",
      "<link href=\"https://itecs-innovative.com/blog/wp-json/oembed/1.0/embed?url=https%3A%2F%2Fitecs-innovative.com%2Fblog%2Fshould-corporate-research-and-development-and-institutions-partner-to-bring-innovations-to-market%2F\" rel=\"alternate\" type=\"application/json+oembed\"/>\n",
      "<link href=\"https://itecs-innovative.com/blog/wp-json/oembed/1.0/embed?url=https%3A%2F%2Fitecs-innovative.com%2Fblog%2Fshould-corporate-research-and-development-and-institutions-partner-to-bring-innovations-to-market%2F&amp;format=xml\" rel=\"alternate\" type=\"text/xml+oembed\"/>\n",
      "</head>\n",
      "<body class=\"single single-post postid-255 single-format-standard single-author singular two-column left-sidebar\">\n",
      "<div class=\"hfeed\" id=\"page\">\n",
      "<header id=\"branding\" role=\"banner\">\n",
      "<hgroup>\n",
      "<h1 id=\"site-title\"><span><a href=\"https://itecs-innovative.com/blog/\" rel=\"home\">ITECS</a></span></h1>\n",
      "<h2 id=\"site-description\">Blog</h2>\n",
      "</hgroup>\n",
      "<a href=\"https://itecs-innovative.com/blog/\">\n",
      "<img alt=\"ITECS\" height=\"300\" src=\"https://itecs-innovative.com/blog/wp-content/uploads/2013/12/cropped-ITECS-graphic-blog-header-lower-right.jpg\" width=\"1000\"/>\n",
      "</a>\n",
      "<form action=\"https://itecs-innovative.com/blog/\" id=\"searchform\" method=\"get\">\n",
      "<label class=\"assistive-text\" for=\"s\">Search</label>\n",
      "<input class=\"field\" id=\"s\" name=\"s\" placeholder=\"Search\" type=\"text\"/>\n",
      "<input class=\"submit\" id=\"searchsubmit\" name=\"submit\" type=\"submit\" value=\"Search\"/>\n",
      "</form>\n",
      "<nav id=\"access\" role=\"navigation\">\n",
      "<h3 class=\"assistive-text\">Main menu</h3>\n",
      "<div class=\"skip-link\"><a class=\"assistive-text\" href=\"#content\">Skip to primary content</a></div>\n",
      "<div class=\"menu-custom-menu-container\"><ul class=\"menu\" id=\"menu-custom-menu\"><li class=\"menu-item menu-item-type-custom menu-item-object-custom menu-item-home menu-item-1698\" id=\"menu-item-1698\"><a href=\"https://itecs-innovative.com/blog/\">Home</a></li>\n",
      "<li class=\"menu-item menu-item-type-post_type menu-item-object-page menu-item-119\" id=\"menu-item-119\"><a href=\"https://itecs-innovative.com/blog/innovation/\" title=\"Innovation\">Innovation</a></li>\n",
      "</ul></div> </nav><!-- #access -->\n",
      "</header><!-- #branding -->\n",
      "<div id=\"main\">\n",
      "<div id=\"primary\">\n",
      "<div id=\"content\" role=\"main\">\n",
      "<nav id=\"nav-single\">\n",
      "<h3 class=\"assistive-text\">Post navigation</h3>\n",
      "<span class=\"nav-previous\"><a href=\"https://itecs-innovative.com/blog/best-practices-for-technology-partnership-collaboration-agreements/\" rel=\"prev\"><span class=\"meta-nav\">←</span> Previous</a></span>\n",
      "<span class=\"nav-next\"><a href=\"https://itecs-innovative.com/blog/the-importance-of-developing-external-partners-to-spur-innovation/\" rel=\"next\">Next <span class=\"meta-nav\">→</span></a></span>\n",
      "</nav><!-- #nav-single -->\n",
      "<article class=\"post-255 post type-post status-publish format-standard hentry category-open-innovation-2 category-technology-partnerships tag-innovation-partnerships tag-licensing-technology-2 tag-open-innovation tag-technology-partnerships-2\" id=\"post-255\">\n",
      "<header class=\"entry-header\">\n",
      "<h1 class=\"entry-title\">Should Corporate Research and Development and Institutions Partner to Bring Innovations to Market?</h1>\n",
      "<div class=\"entry-meta\">\n",
      "<span class=\"sep\">Posted on </span><a href=\"https://itecs-innovative.com/blog/should-corporate-research-and-development-and-institutions-partner-to-bring-innovations-to-market/\" rel=\"bookmark\" title=\"7:38 am\"><time class=\"entry-date\" datetime=\"2013-12-10T07:38:17+00:00\">December 10, 2013</time></a><span class=\"by-author\"> <span class=\"sep\"> by </span> <span class=\"author vcard\"><a class=\"url fn n\" href=\"https://itecs-innovative.com/blog/author/admin/\" rel=\"author\" title=\"View all posts by admin\">admin</a></span></span> </div><!-- .entry-meta -->\n",
      "</header><!-- .entry-header -->\n",
      "<div class=\"entry-content\">\n",
      "<p><a href=\"https://itecs-innovative.com/blog/wp-content/uploads/2013/12/Should-Corporations-and-Institutions-Partner-to-Bring-Innovations-to-Market.jpg\"><img alt=\"Should Corporations and Institutions Partner to Bring Innovations to Market\" class=\"alignleft size-medium wp-image-260\" height=\"206\" sizes=\"(max-width: 300px) 100vw, 300px\" src=\"https://itecs-innovative.com/blog/wp-content/uploads/2013/12/Should-Corporations-and-Institutions-Partner-to-Bring-Innovations-to-Market-300x206.jpg\" srcset=\"https://itecs-innovative.com/blog/wp-content/uploads/2013/12/Should-Corporations-and-Institutions-Partner-to-Bring-Innovations-to-Market-300x206.jpg 300w, https://itecs-innovative.com/blog/wp-content/uploads/2013/12/Should-Corporations-and-Institutions-Partner-to-Bring-Innovations-to-Market-436x300.jpg 436w, https://itecs-innovative.com/blog/wp-content/uploads/2013/12/Should-Corporations-and-Institutions-Partner-to-Bring-Innovations-to-Market.jpg 550w\" width=\"300\"/></a></p>\n",
      "<p>Partnering with external entities can be a difficult endeavor, even in those companies who espouse open innovation. Perhaps it is a fear of job security, change, compromising sensitive information to potential competitors, a disdain for ideas not developed in house or it may just be a lack of time, energy and information.  As research and development organizations are being pared down to more development and less research it is understandable that R&amp;D staff are just too focused on getting the next product, goods or service out the door, on time and within budget to navigate an external alliance.</p>\n",
      "<p>While these partnership endeavors are no ‘easy button’ to solving a current crises, there are certainly long-term tangible and intangible advantages for primary investigators and R&amp;D managers alike, who invest in external partnering. The tangible benefits include access to labs, equipment, materials, expertise, and future recruits whom have been tested out prior to hiring.  There is also the potential for improvement in development productivity and cost reduction in research and development. The intangible benefits include new ideas, fresh perspectives and experiences outside the corporate culture, early customer buy created by incorporating them in the development process, and a potential for increased accuracy for market research and customer targeting. Then, of course, it’s tough to estimate the time and energy lost by not partnering, especially when the competition is partnering. </p>\n",
      "<p>The hurdles in external collaboration are most typically in intellectual property management and licensing, but can also include areas from budgets to compliance to cultural clashes between the discovery driven institutions and deliverables driven corporations. Most hurdles are manageable with a little guidance and a clear definition of the roles, responsibilities and expectations. Be assured these partnerships happen all the time and corporations wouldn’t be investing 1-3% of their research and development budget if they weren’t fruitful. </p>\n",
      "<p>Here are some quick tips as you consider whether your technology research project or program is suitable for an external, collaborative partnership.</p>\n",
      "<p><strong>Know and leverage your strengths versus what you can obtain externally.</strong><br/>\n",
      "Corporations have the mission to sell as many products or services as they can and make money. Therefore, they tend to be experts on productization. That’s no simple feat when parts, chemistries, and technologies need to be scaled, efficient processes developed, and/or materials sourced, often in remote factories with cultural challenges to boot. Institutions (non-profits, government labs and Universities) have the mission to create new knowledge. </p>\n",
      "<p>Even though these entities have different missions, they can serve as valuable resources to each other because they are experts in different areas. Segment the work where each partner plays to their strengths: institutions handle more fundamental research and the corporation integrates the technology in-house with the full arsenal of information about the product, good or service. This effectively increases the corporations’ R&amp;D development effort and offers the institution a pathway to commercialization. Alternatively, corporations can partner with a university or government lab that has the technology of interest already partially developed on someone else’s dollar, increasing the corporation’s speed to market and reducing the overall cost of development.  Why should a corporation hire a group of highly skilled researchers for an area that is new or not core to their business until they have decided that this technology is a keeper? The risk goes against the mission of making money. </p>\n",
      "<p><strong>Know what to share. </strong><br/>\n",
      "Partnering doesn’t have to mean an open kimono. Remember, the mission of institutions is to disseminate the new knowledge developed during the partnering through teaching, publications, conference proceedings, graduate student defenses and/or patents. Confidentiality and nondisclosure agreements can work both ways with respect to managing sensitive information: they can foster open dialog or they can contaminate your internal efforts in a similar area. Choose wisely, and it is in the best interest of both parties to self sensor information that is not core to the project. See our post on Best Practices for Technology Partnership Collaboration Agreements. (link to other post)</p>\n",
      "<p><strong>Align your expectations.</strong><br/>\n",
      "If you know going in that the expectations of your collaboration partner may differ from yours, then you can prepare for it. One of the first clashes in expectations may occur around timing of the project. The goal and timeline oriented industry culture versus the less structured and discovery-driven world of institutions can produce timeline friction. Most institutions are not equipped to work on products that are, or soon will be, in production, since they are juggling teaching assignments as well as research. So, plan around it. An efficient method of segmenting the work is to have the institution work on fundamental research that has a minimum timeline of 1-5 years. </p>\n",
      "<p>Another area to align expectations is how to deal with intellectual property ownership and licensing terms in any work between corporations and institutions.</p>\n",
      "<p>While corporations may be used to owning anything they pay for with their suppliers, this is not always possible in sponsored research projects with institutions. This is where an understanding of the goals and expectations and an experienced program manager can make sure that the needs of both parties are maintained. Corporations need to secure a competitive advantage, maintain the ability to make use or sell outcomes from the collaborative work and secure a licensing position in a specific market segment, while institutions need the ability to publish and continue research.</p>\n",
      "<p>Managing expectations and playing on each partners’ strengths is definitely the key to a successful collaborative partnership.</p>\n",
      "<p><strong>What advice do you have for companies contemplating a collaborative technology partnership?</strong></p>\n",
      "</div><!-- .entry-content -->\n",
      "<footer class=\"entry-meta\">\n",
      "\t\tThis entry was posted in <a href=\"https://itecs-innovative.com/blog/category/open-innovation-2/\" rel=\"category tag\">Open Innovation</a>, <a href=\"https://itecs-innovative.com/blog/category/technology-partnerships/\" rel=\"category tag\">Technology Partnerships</a> and tagged <a href=\"https://itecs-innovative.com/blog/tag/innovation-partnerships/\" rel=\"tag\">innovation partnerships</a>, <a href=\"https://itecs-innovative.com/blog/tag/licensing-technology-2/\" rel=\"tag\">licensing technology</a>, <a href=\"https://itecs-innovative.com/blog/tag/open-innovation/\" rel=\"tag\">open innovation</a>, <a href=\"https://itecs-innovative.com/blog/tag/technology-partnerships-2/\" rel=\"tag\">technology partnerships</a> by <a href=\"https://itecs-innovative.com/blog/author/admin/\">admin</a>. Bookmark the <a href=\"https://itecs-innovative.com/blog/should-corporate-research-and-development-and-institutions-partner-to-bring-innovations-to-market/\" rel=\"bookmark\" title=\"Permalink to Should Corporate Research and Development and Institutions Partner to Bring Innovations to Market?\">permalink</a>.\t\t\n",
      "\t\t\t</footer><!-- .entry-meta -->\n",
      "</article><!-- #post-255 -->\n",
      "<div id=\"comments\">\n",
      "<div class=\"comment-respond\" id=\"respond\">\n",
      "<h3 class=\"comment-reply-title\" id=\"reply-title\">Leave a Reply <small><a href=\"/blog/should-corporate-research-and-development-and-institutions-partner-to-bring-innovations-to-market/#respond\" id=\"cancel-comment-reply-link\" rel=\"nofollow\" style=\"display:none;\">Cancel reply</a></small></h3><p class=\"must-log-in\">You must be <a href=\"https://itecs-innovative.com/blog/wp-login.php?redirect_to=https%3A%2F%2Fitecs-innovative.com%2Fblog%2Fshould-corporate-research-and-development-and-institutions-partner-to-bring-innovations-to-market%2F\">logged in</a> to post a comment.</p> </div><!-- #respond -->\n",
      "</div><!-- #comments -->\n",
      "</div><!-- #content -->\n",
      "</div><!-- #primary -->\n",
      "</div><!-- #main -->\n",
      "<footer id=\"colophon\" role=\"contentinfo\">\n",
      "<div id=\"site-generator\">\n",
      "<a href=\"https://wordpress.org/\" title=\"Semantic Personal Publishing Platform\">Proudly powered by WordPress</a>\n",
      "</div>\n",
      "</footer><!-- #colophon -->\n",
      "</div><!-- #page -->\n",
      "<script src=\"https://itecs-innovative.com/blog/wp-includes/js/wp-embed.min.js?ver=4.5.4\" type=\"text/javascript\"></script>\n",
      "</body>\n",
      "</html>\n"
     ]
    }
   ],
   "source": [
    "import urllib\n",
    "import urllib2\n",
    "#resp = urllib2.urlopen('https://twitter.com/josek_net/status/403084168181350400')\n",
    "resp = urllib2.urlopen( 'https://itecs-innovative.com/blog/should-corporate-research-and-development-and-institutions-partner-to-bring-innovations-to-market/')\n",
    "print BS( resp.read(),'html.parser' )"
   ]
  },
  {
   "cell_type": "code",
   "execution_count": 25,
   "metadata": {
    "collapsed": false
   },
   "outputs": [
    {
     "data": {
      "text/plain": [
       "69"
      ]
     },
     "execution_count": 25,
     "metadata": {},
     "output_type": "execute_result"
    }
   ],
   "source": [
    "from textstat.textstat import textstat\n",
    "text = \"hi how r u you missme i got new pics what you doing tonight you there you got new pics? why that open your share pics yea ? why you never seen one before do you like what you see ? hello well are you busy i will go if u r can i see your pics again does that mean your busy and you dont want to chat with me im off work tonight ------------------------------------------------------what is the address i know that is why i camcel it what is your adress for ms you gonna talk 2 me ok ty im here sittin being bored and you what you want to do then when you have to go to bed well ? you there  youknow it is after 10 now oh it is here so it is 9 there well talk what you doing what you do while your on here oh ok where is your pics on ms ok ill look again seem them yea love the one thatwhere you r wearing that blacktop itis the same pic you r using now in blue your very hott wish you was older why you never heard that before why not you got a bf why did you like my pics you like me hello you gonna stay with me i am glad i like you yes well do you why that is all gee thanks i thought you like my pics too well you not like me:( just joking ok lol lol want to ake you smile mwa what i sent u a kiss ah ty wish you could kiss me i loved that what is cool what i would love to wouldnt you kiss you if you let me really you know im older than you and that would cause me a problem right think about it im older so you dont mind really so you like older guys really so you would date me see now you just talkin you wouldnt and i think it is because im older ok ok sorry you really would why is that ty i like you too more and more when r u on here so i can be here for u im off tomarrow too and i work nights restaurant manager so where you live again near nashville right what time when i do work i work 8 pm to 3am yea but someone has to do it why you leave\\ni got the bill to prove it i didnt fet home until 2 am and i texted you did you get it i can be ther in 130 hrs now i know how to get there how do you think i feel i have to get a car fix now ok i leave here at 12 what time u got now 1116 here ok i got my honda suv i got two cars you stil want that cell phone too right ok im leaving here at 12 you talking to others sorry you miss party but i was near you lastnight ok im grtting ready ok\\nhi how r u you miss me i got more pics on myspace today you get pics for me ok ill wait ok ill wait let me know what you think god ur cute i see your pics kewl he left for the weekend now you got phone then takof your self nude for me and seen to me at 502-482-6595 ? y or n ok hb i need direction too you send that too tonight when i get off work at 3 am ill be there to wake youok so take pics from me and send and direction too hello  louisville ky. just the address i can search the way no im off you told me to be there thuis weekend address ill fine it just let me try it to see if i can find it hello? you dont want me too do you city kewl not far at all yea go to yahoo search for direction and type it in there to louisville and youll see im off tomarrow i dont have to call in you can going to look for your address so what time will that be ok so where do i stay till you get off school i wont get there till six am no ill be ok you wont be your just fine i seen your pics you cute all the time ok\\nhi im a male asl 22m louisville aaron where at in ky i could be going that way soon you got pics yes the other ones i got are nude you are too the other ones r nude no sorry lol add me as a friend ok why you close the share pics hello oh ok gonna talk ok only if you want to see them they r ude but you have to see them do you want too you see them well well ? y? you like why is that wel ok\\nhello what happen to you well i hope to hear from you again ok look for me ill be here for the next two days im off work\\nwhy you leave me\\nhey not gonna make it have to plan it some other time got call to work someone stoled money from safe got to call police sorry i tried i did really got to go hope to hear from you pls dont be mad let me fix my car and ill come there when you want me too really no jokes or playin you im serious i hope you r too pls let me know pls. ok whhat ever i have to go take care of thios sorry got to go\\nwaiting on you where you at\\nno had to stop pee pee run i gonna call you getting near now ok u see then ill just get there and not call till i find the house oh now it is what ever im almost there i have to drive now pulling out from rest area ok then i know but i got turned around when i was looking for rest room sorry didnt think it be this long when i get there ill call when i get to the city ill make it up to you when i get there ok wait for me\\nhey i had to come back and get my other car mt honda suv now where are you\\nmwa hi sexy sittin being bored u? sorry to here that when you gonna be done you miss me good you been thinking of my ? and what was it a about and when was this you there? not tonight i went in at 8am this morning what was you thinking about me you there tell me what you was thinking about pls like what like what talk to me ok so what is interresting about me? yes rock blue october hate me yea i like them too 1o/5/1983 libra and you no october yea just had bday no presents :( kewl no one for me no girlfrind work all the time got thur own life no alone just moved here 4 mo. ago yea mississippi lived on the gulf of mexico gauiter mississippi why would you meet me if i go back that way? hello yea i really am thinking of going back there loved it there no i am going back no i am going back it could be early next mo. what is a good day for you to meet me ill be driving thru so you want me to come there this weekend what we gonna do kewl kewl yea you tell me im your quess right yea why what kind kewl what eles then well yea duh why honda suv ok white your not a cop r u? ask alot of question when you can see it when i get there why your be on the phone with me so you gonna give me direction you really want me to come there why tell me why youu drink? smoke yea on both so you still like my pics can you make pics for me oh sorry too hear kewl oh ok i have one but it isnt hocked up to my laptop so you will make me some pics when you get it so yes some nude too? me too well? would you try it you like to pose? just me so if i come there can i take pics of you till you get your cam up myspace is up and working add me to your friends list ok it is i_8u_raw good love to see you in a suit or a dress so what was you thinking about me ok swimm suit ok so you like me because im cool is that all gee thank alot lol ok so your adress pls whaen is that if i leave the same time he does or if you give me the adress i could leave early ok but i could leave early and still miss him who else gonna be there ok so what else you want to do ever been eith a guy so not a virgin ohok want to try it so is that no or just need help to do it only if you want too im not gonna do something you dont want too do okso you have to want too just playin around not anything dumb or hurt you ok like a bf would do but lets move on you not wanting to talk about this i can see you act like you not interested in me or sex or anything like that ok true so you happy im coming there you got cell phone wish you had cam now so i could see your smile ohok so i can call you after he leaves ok what i get when i get you a phone i got a extra phone here with me i bought last mo. boost mobil two way walkie talkies yea really why i will get you one ok hurry back mwa mwa   you back good missed you really? why? ty me too done with home work wel wait till you get to college yea that is what i said too so where is dad going and for how long and no-one gonna stop by r they to check up on u no just have do do your studies tho ok can you give me the adress so i can look at a map to see how far i have to drive hello so ill be driving blind till then not good kewl i had a ckicken home made potpie going for ice creem noow yea i went to school for cooking i got culinary art degree and business degree too so yea i know how to cook yes culinary arts school of cooking ive worked for the kentucky derby indy 500 some other places too and i was working foe fema when the hurrican hit mississippi that is why i went to miss. now i am going back to live i hope fema is goverment help after a natural desaster yea and i cook for the army navy and the other ones too yea when i get there what you like well you got time to think on it ok ok but i do work for taco bell ill make it for u i got a taco dont i ?lol=)) yea what you doing now have you ever played with self before not xboxx with self finger never mind what city you live in what you didnt like doing it or what ever let a bf do it for you can i try it when you want too you sure not scared or you really want to try it what you ready to have sex ? ok wont push you ok lets just have fun while im there ok so you let me know ok kewl so you likin me more and more now no i do not think that why would i i use to live in tenn. too hartsville tenn. my dad lives in glasgow kentucky off 90 so what you doing now me too lol black you? that is why i told you i like that top you wore in that pics lookin for my cusin he dont know lookin for him by name people search why sad got booted so you missed me wasnt gone long hello? im on wireless laptop lose single no never why ould u think that yea hold on ok? ty miss you r u talking to other guys from here? oh ok what made u want to talk to me why not now thats all ty and im glad you did talk to me hold on now ok brb\\nimback sorry took so long miss me whatyou been doing had to go to work and fix something there some one didnt show up for work kewl miss me' ty you saved my pics? really why why hello no hello u there good so what you feel 4 me now as far as feelings how much what else you do when you r out hello? out and about with nothing to do good go to mall then what name you use for me i_8u_raw im gonna add you what is yours you add me ok hb why do you look at my pics at all any more how im tring yea yea how to add how sent me a email no myspace did hold on lookin at your pics again what size your tities how tall r u enough for a mouth ? they sore kewl can your tities fit in my mouth thats is what i mean by enough for mouth how big r they what size bra ohok that is a good size not small i like them that size to big tities are to much yea really why? does your dad phone have camera ? and no i dont care for big tities to much is a waste so will you show me a pic some time if i give you my number when when can you ok see about the pics and good night sleep well sweet dreams ok when you getting back on :-\\nim on my way there in the moring had to take care of work what is the adress again im leaving here at 6am hello? had to replace a person at work they called off you dad make it there address pls and phone number you want me to come there right  i have to go back to work for awhile to finish paper work then ill be leaving i have to close out the day so it will be tonight then i can leave why you gonna be up right it is gonna take me 2hrs to get there yea so you gonna be there what is your numbers yea i can what you want to do did you take pic for me yet why tell me i know that why you cannt get camera to work go to media look for camera thentake pic then send to my phone 502 482 65 95 looking now ? ok ok hold on looking now it says it will take me 1hrs 52 mins to get there so where you live off the main street yea so you trin to take pics yea ill be there tonight thats what i mean so what you want to do when i get there i see ok yea you have to give me your phone munber that way ill call you to make sure you awake ok still want number i case i have trouble ok ghost there why? you leave me ? what you doing your between 10th and 11th street there right  ok so you ready what you want to do tonight what you want to do not what i want well? you really want too? thought you never tried it why you want too you like me that much? kewl so you r willing to try it ok can i get a pic of you nude now pls? send me a text from your phone so i know it is yours 15024826595 my number no why what number you got 4 hrs to go hello ? what you doing now? ok ok toget there yea :-*:\\\">;:x no later i have to go to work to do paper work then i leave for you no text yet yes on both ok still cannt send a pic try taking one again brb yea yea now see if you can add a pic to your text to me i cannt wait to get there you really want me? you working on that ?????????????????? what is it telling you then what is it doing tell me what happens when you do it ok take your time baby youll get it tell me you opion on the main menue how your there there is another menue look for it ok go out and go to menue again no dont pls ill work with you just try ok i want to see you like you saw me so ill try this till i get there pls try no but you can try right ok baby that is all i ask yea r u gonna get nude for me all the way ? ok that is ok ill be there for u ok so ru excited? really why is that you really want to do all those thing ? have to get paper work done so i can leave yea but i have to wait till sales go in to the main company ok i have to wait i want to leave now but cannt have to do this or it could be my job i know but managers never get thier day off i was suppose to work for the person that i fired but i got them replaced and now all i have to do is the paper work work so you working on the phone ? hello ? why what kind of phone is it you know where your dad put the paper work on the phone at what model ok my phone has two menues you there so you really want me to do things to you ? you really want to have sex no ill show u ok you want to try it ill work with you ill even lick your pussy yea you will to youll see girls love it aleast everyone i know says they do you ever played withself so you leaving me pls stay online ill be here waiting ok no im coming there ill be there i swear im coming i have to finish work ok? i want to make sure you comfortable with me so you dont feel odd when i get there love to take shower with you too can we do that too goood i am glad you r comfortable with me ok do what you gotta do then ill be here till i leave then kewl can we then mwa you ready for me to get there ill be waiting for you here before i leave ok so you will know im on my way asl hi hello you there k mwa mwa im still here  you there you back kewl wish i was there now ok ill be here till i leave for your house ok im at work when i get done ill be heading out for ur house ok ok i will call you when i get to your town youll talk to your friends you tell them about me or what good dont let them ok ill call you as soon as i get there :x:-*\\nyou not talkin tome when i got booted im on my way there you get pics yet you ready for me driving with laptop that is why i got booted lost single wireless internet yes so you ready? just left be a few hours dirve well? you excited now? 2 at the most ? ? so you will be ready ? talk to me while i drive yes we can do that ok one hand it is a str8 shot on highway just one finger hen pick ill show what one finger can do lol ok? is your heart beating fast now waiting for me ? why nervuos ?was you thinking of me while you was gone good do you regret not going ther im on my way i couldnt text i went thru a tunnel so you want me then ? wait let me get this sitting right then we can ok talk to me till then like what ask me anything alot of things i have to make short messages go to drive too got to drive too sorry about that typo why you dont want me to get hurt true so you want to have fun then blue october i like green day too and creed and more i love nickelback matchbox too we fit good together we like the same music no forgot them radio is on the fox rocks you chatting with others ? kewl what you gonna do when i get there promise? so r u still nervous why you talking to me now outside of louisville city going south to you so dont be nervous ok but why r u nervous for you know im coming mississippi missouri, ill. n.y. ga. so what you wearing what you gonna wear when i get there im a chef i worked wear just t shirt for me ok? im in a white chevy cobot ok so you gonna wear tha tfor me lil car sport car yea anthting for you you have to help tho just till me what you want and where everything is at anything what you doing now? ok so you can chat with me i know hold on ok im back some dumb ass just cut in front of me yea ok just mad hold ill tell you all most near lebanon juction next is elizbethtown over 20 miles under a hour you ready you just got t shirt on right when i get in town ok no might lose single again i keep looking at your pic your hott hello where you at ok i cannt wait how about you you sure light on laptop one finger taping im use to it i have to type everyday i have to put all my sales and other things in my companys web sight so i have to type it in star of louisville cruise ship it is a boat you can book parties on and i cook for the parties itis hey i just passed a town called booth colesburg next still driving why im coming dont worry ill be there soon what you got to get ready 4 ok mwa ill be therein awhile ok\\nhi sorry i missed you i was working\"\n",
    "textstat.sentence_count(text)"
   ]
  },
  {
   "cell_type": "code",
   "execution_count": 115,
   "metadata": {
    "collapsed": false
   },
   "outputs": [
    {
     "name": "stdout",
     "output_type": "stream",
     "text": [
      "4161\n"
     ]
    },
    {
     "name": "stderr",
     "output_type": "stream",
     "text": [
      "C:\\Anaconda2\\lib\\site-packages\\ipykernel\\__main__.py:6: ParserWarning: Falling back to the 'python' engine because the 'c' engine does not support regex separators (separators > 1 char and different from '\\s+' are interpreted as regex); you can avoid this warning by specifying engine='python'.\n"
     ]
    },
    {
     "name": "stdout",
     "output_type": "stream",
     "text": [
      "200\n",
      "400\n",
      "600\n",
      "800\n",
      "1000\n",
      "1200\n",
      "1400\n",
      "1600\n",
      "1800\n",
      "2000\n",
      "2200\n",
      "2400\n",
      "2600\n",
      "2800\n",
      "3000\n",
      "3200\n",
      "3400\n",
      "3600\n",
      "3800\n",
      "4000\n"
     ]
    },
    {
     "data": {
      "text/html": [
       "<div>\n",
       "<table border=\"1\" class=\"dataframe\">\n",
       "  <thead>\n",
       "    <tr style=\"text-align: right;\">\n",
       "      <th></th>\n",
       "      <th>file</th>\n",
       "      <th>text</th>\n",
       "      <th>gender</th>\n",
       "      <th>age</th>\n",
       "    </tr>\n",
       "  </thead>\n",
       "  <tbody>\n",
       "    <tr>\n",
       "      <th>0008cbac7ba4389fda6070a2d8830934</th>\n",
       "      <td>0008cbac7ba4389fda6070a2d8830934</td>\n",
       "      <td>Busy but a good quality hotel. Would stay agai...</td>\n",
       "      <td>MALE</td>\n",
       "      <td>25-34</td>\n",
       "    </tr>\n",
       "    <tr>\n",
       "      <th>000ed57fa9c24792ab814af97cb34aa5</th>\n",
       "      <td>000ed57fa9c24792ab814af97cb34aa5</td>\n",
       "      <td>Great Old Dame I have been in Madrid several t...</td>\n",
       "      <td>MALE</td>\n",
       "      <td>18-24</td>\n",
       "    </tr>\n",
       "    <tr>\n",
       "      <th>00349ea60a0a749e0de58fbdfca2c5c2</th>\n",
       "      <td>00349ea60a0a749e0de58fbdfca2c5c2</td>\n",
       "      <td>Great time in the Dominican I went with my now...</td>\n",
       "      <td>MALE</td>\n",
       "      <td>35-49</td>\n",
       "    </tr>\n",
       "    <tr>\n",
       "      <th>004bacc5c986cfe17c0450c5980942c5</th>\n",
       "      <td>004bacc5c986cfe17c0450c5980942c5</td>\n",
       "      <td>Great Staff in New Orleans The French Quarter ...</td>\n",
       "      <td>FEMALE</td>\n",
       "      <td>35-49</td>\n",
       "    </tr>\n",
       "    <tr>\n",
       "      <th>005c04cd809eb766b25862c6333fae1b</th>\n",
       "      <td>005c04cd809eb766b25862c6333fae1b</td>\n",
       "      <td>Decent enough hotel I have mixed feelings abou...</td>\n",
       "      <td>MALE</td>\n",
       "      <td>50-64</td>\n",
       "    </tr>\n",
       "  </tbody>\n",
       "</table>\n",
       "</div>"
      ],
      "text/plain": [
       "                                                              file  \\\n",
       "0008cbac7ba4389fda6070a2d8830934  0008cbac7ba4389fda6070a2d8830934   \n",
       "000ed57fa9c24792ab814af97cb34aa5  000ed57fa9c24792ab814af97cb34aa5   \n",
       "00349ea60a0a749e0de58fbdfca2c5c2  00349ea60a0a749e0de58fbdfca2c5c2   \n",
       "004bacc5c986cfe17c0450c5980942c5  004bacc5c986cfe17c0450c5980942c5   \n",
       "005c04cd809eb766b25862c6333fae1b  005c04cd809eb766b25862c6333fae1b   \n",
       "\n",
       "                                                                               text  \\\n",
       "0008cbac7ba4389fda6070a2d8830934  Busy but a good quality hotel. Would stay agai...   \n",
       "000ed57fa9c24792ab814af97cb34aa5  Great Old Dame I have been in Madrid several t...   \n",
       "00349ea60a0a749e0de58fbdfca2c5c2  Great time in the Dominican I went with my now...   \n",
       "004bacc5c986cfe17c0450c5980942c5  Great Staff in New Orleans The French Quarter ...   \n",
       "005c04cd809eb766b25862c6333fae1b  Decent enough hotel I have mixed feelings abou...   \n",
       "\n",
       "                                  gender    age  \n",
       "0008cbac7ba4389fda6070a2d8830934    MALE  25-34  \n",
       "000ed57fa9c24792ab814af97cb34aa5    MALE  18-24  \n",
       "00349ea60a0a749e0de58fbdfca2c5c2    MALE  35-49  \n",
       "004bacc5c986cfe17c0450c5980942c5  FEMALE  35-49  \n",
       "005c04cd809eb766b25862c6333fae1b    MALE  50-64  "
      ]
     },
     "execution_count": 115,
     "metadata": {},
     "output_type": "execute_result"
    }
   ],
   "source": [
    "file_path = \"G:\\\\author profiling\\\\pan14-author-profiling-training-corpus-english-reviews-2014-04-16\\\\\"\n",
    "#os.chdir(file_path)\n",
    "files = os.listdir(file_path)\n",
    "print len(files)\n",
    "# print files[:5]\n",
    "truth_df = pd.read_csv(file_path+files[-1], sep=\":::\", header=None, names=('file','gender','age'))\n",
    "# print truth_df.columns.values\n",
    "truth_df = truth_df.set_index('file')\n",
    "# print truth_df.head()\n",
    "# tdf = truth_df.set_index('file')\n",
    "# print tdf.head()\n",
    "review_df = pd.DataFrame(columns=('file', 'text', 'gender', 'age'))\n",
    "count = 0\n",
    "for file in files[:-1]:\n",
    "    author = {}\n",
    "    author['file'] = file[:-4]\n",
    "    #print file\n",
    "    with open(file_path+file) as f:\n",
    "        tree = ET.parse(f)\n",
    "        raw_text = []\n",
    "        \n",
    "        for node in tree.iter('document'):\n",
    "            raw_text.append(BS(node.text, 'html.parser').get_text().strip())\n",
    "        author['text'] = '\\n'.join(raw_text)\n",
    "        author['gender'] = truth_df.loc[author['file']]['gender']\n",
    "        #print author['gender']\n",
    "        author['age'] = truth_df.loc[author['file']]['age']\n",
    "    author_series = pd.Series(author)\n",
    "    author_series.name = author['file']\n",
    "#     author_series =  pd.Series(dict(zip(['file', 'text', 'gender', 'age'], [author['file'],author['text'],author['gender'],author['age']])))\n",
    "    author_series.name = author['file']\n",
    "    review_df = review_df.append(author_series)\n",
    "    count += 1\n",
    "    if count%200 == 0:\n",
    "        print count\n",
    "review_df.head()"
   ]
  },
  {
   "cell_type": "code",
   "execution_count": 121,
   "metadata": {
    "collapsed": false
   },
   "outputs": [
    {
     "name": "stdout",
     "output_type": "stream",
     "text": [
      "['18-24', '25-34', '35-49', '50-64', '65-xx']\n",
      "['FEMALE', 'MALE']\n"
     ]
    },
    {
     "data": {
      "text/html": [
       "<div>\n",
       "<table border=\"1\" class=\"dataframe\">\n",
       "  <thead>\n",
       "    <tr style=\"text-align: right;\">\n",
       "      <th></th>\n",
       "      <th>file</th>\n",
       "      <th>text</th>\n",
       "      <th>gender</th>\n",
       "      <th>age</th>\n",
       "      <th>encoded_age</th>\n",
       "      <th>encoded_gender</th>\n",
       "    </tr>\n",
       "  </thead>\n",
       "  <tbody>\n",
       "    <tr>\n",
       "      <th>0008cbac7ba4389fda6070a2d8830934</th>\n",
       "      <td>0008cbac7ba4389fda6070a2d8830934</td>\n",
       "      <td>Busy but a good quality hotel. Would stay agai...</td>\n",
       "      <td>MALE</td>\n",
       "      <td>25-34</td>\n",
       "      <td>1</td>\n",
       "      <td>1</td>\n",
       "    </tr>\n",
       "    <tr>\n",
       "      <th>000ed57fa9c24792ab814af97cb34aa5</th>\n",
       "      <td>000ed57fa9c24792ab814af97cb34aa5</td>\n",
       "      <td>Great Old Dame I have been in Madrid several t...</td>\n",
       "      <td>MALE</td>\n",
       "      <td>18-24</td>\n",
       "      <td>0</td>\n",
       "      <td>1</td>\n",
       "    </tr>\n",
       "    <tr>\n",
       "      <th>00349ea60a0a749e0de58fbdfca2c5c2</th>\n",
       "      <td>00349ea60a0a749e0de58fbdfca2c5c2</td>\n",
       "      <td>Great time in the Dominican I went with my now...</td>\n",
       "      <td>MALE</td>\n",
       "      <td>35-49</td>\n",
       "      <td>2</td>\n",
       "      <td>1</td>\n",
       "    </tr>\n",
       "    <tr>\n",
       "      <th>004bacc5c986cfe17c0450c5980942c5</th>\n",
       "      <td>004bacc5c986cfe17c0450c5980942c5</td>\n",
       "      <td>Great Staff in New Orleans The French Quarter ...</td>\n",
       "      <td>FEMALE</td>\n",
       "      <td>35-49</td>\n",
       "      <td>2</td>\n",
       "      <td>0</td>\n",
       "    </tr>\n",
       "    <tr>\n",
       "      <th>005c04cd809eb766b25862c6333fae1b</th>\n",
       "      <td>005c04cd809eb766b25862c6333fae1b</td>\n",
       "      <td>Decent enough hotel I have mixed feelings abou...</td>\n",
       "      <td>MALE</td>\n",
       "      <td>50-64</td>\n",
       "      <td>3</td>\n",
       "      <td>1</td>\n",
       "    </tr>\n",
       "  </tbody>\n",
       "</table>\n",
       "</div>"
      ],
      "text/plain": [
       "                                                              file  \\\n",
       "0008cbac7ba4389fda6070a2d8830934  0008cbac7ba4389fda6070a2d8830934   \n",
       "000ed57fa9c24792ab814af97cb34aa5  000ed57fa9c24792ab814af97cb34aa5   \n",
       "00349ea60a0a749e0de58fbdfca2c5c2  00349ea60a0a749e0de58fbdfca2c5c2   \n",
       "004bacc5c986cfe17c0450c5980942c5  004bacc5c986cfe17c0450c5980942c5   \n",
       "005c04cd809eb766b25862c6333fae1b  005c04cd809eb766b25862c6333fae1b   \n",
       "\n",
       "                                                                               text  \\\n",
       "0008cbac7ba4389fda6070a2d8830934  Busy but a good quality hotel. Would stay agai...   \n",
       "000ed57fa9c24792ab814af97cb34aa5  Great Old Dame I have been in Madrid several t...   \n",
       "00349ea60a0a749e0de58fbdfca2c5c2  Great time in the Dominican I went with my now...   \n",
       "004bacc5c986cfe17c0450c5980942c5  Great Staff in New Orleans The French Quarter ...   \n",
       "005c04cd809eb766b25862c6333fae1b  Decent enough hotel I have mixed feelings abou...   \n",
       "\n",
       "                                  gender    age  encoded_age  encoded_gender  \n",
       "0008cbac7ba4389fda6070a2d8830934    MALE  25-34            1               1  \n",
       "000ed57fa9c24792ab814af97cb34aa5    MALE  18-24            0               1  \n",
       "00349ea60a0a749e0de58fbdfca2c5c2    MALE  35-49            2               1  \n",
       "004bacc5c986cfe17c0450c5980942c5  FEMALE  35-49            2               0  \n",
       "005c04cd809eb766b25862c6333fae1b    MALE  50-64            3               1  "
      ]
     },
     "execution_count": 121,
     "metadata": {},
     "output_type": "execute_result"
    }
   ],
   "source": [
    "from sklearn import preprocessing\n",
    "le = preprocessing.LabelEncoder()\n",
    "le.fit(review_df['age'])\n",
    "print list(le.classes_)\n",
    "review_df['encoded_age'] = le.transform(review_df['age'])\n",
    "le.fit(review_df['gender'])\n",
    "print list(le.classes_)\n",
    "review_df['encoded_gender'] = le.transform(review_df['gender'])\n",
    "review_df.head()"
   ]
  },
  {
   "cell_type": "code",
   "execution_count": 32,
   "metadata": {
    "collapsed": false
   },
   "outputs": [
    {
     "name": "stdout",
     "output_type": "stream",
     "text": [
      "7747\n",
      "['10024129565f8ff07f96dd7ad831520.xml', '10039706dbe81e4dc67c16f5a86ad0f.xml', '1009971ca616a53910a378d7d9862a45.xml', '10161dc32d38f4135624607a0491b46b.xml', '102a91c399d69e26a75c1174cfc90b32.xml']\n",
      "truth.txt\n",
      "10024129565f8ff07f96dd7ad831520.xml\n",
      "Skyrim 019The new character method permits you to perform any way you want and outline on your own as a result of your steps.Dragons Return.Battle historical dragons like you've certainly not seen. As Dragonborn, find out their tricks and harness their electric power for on your own.GameplayElder Scrolls V Skyrim retains the regular open up-world gameplay identified in the Elder Scrolls series. The player is absolutely free to roam the land of Skyrim at will. In Skyrim lie five important metropolitan areas, expanses of wilderness and mountainous ranges. It is really a huge room to shift, examine, and battle inside of. When visiting cities, the player can complete actions like as cooking, farming, woodcutting and mining. The player amounts up by raising knowledge. Eighteen knowledge are existing in Skyrim, and the class procedure from Oblivion has been taken out. Perks are ability-specific skills, organized in a program of branching teams identified as \"talent trees.\" Every rise in level enables for a further perk to be picked. There are 280 perks, which are balanced amongst approximately fifty ranges although the theoretical maximum degree is dependent on the character's ability choices. The on-screen heads-up display only appears when the player's health, stamina, or magicka are staying depleted. This offers a wonderful clear picture when discovering and highlights what is taking place in times of danger. Goods and devices layouts can be saved to a brief-entry menu, and the pause-screen inventory menu is offered in a compass-type overlay while in the stock, the player can rotate and zoom in on acquired objects.Weapons can be created by the player at a forge, and are assigned to just about every hand individually, enabling for dual-wielding. At the value of stamina, the participant can sprint and jump. Shields can be applied with a bashing attack, and timing is expected for blocking with a shield. Blunt, bladed, hacking and stabbing weapons just about every have certain advantages and roles as an example, the participant is granted the capability to carry out finishing moves. Spell kinds have distinct traits a frost spell slows and drains stamina, though a fireplace spell will cause prolonged hurt through burning, and could also ignite the natural environment. When training archery, arrows get lengthier to draw back again than in earlier Elder Scrolls games, but do better damage. Because of this, arrows are expensive and regarded rarities. A participant outfitted with a bow can use it defensively in close fight, in a charging counter attack. The player can sneak, and non-participant characters (NPCs) become alerted if the player's actions are detected. Daggers are especially efficient when utilized in a sneak assault, inflicting devastating damage. All of this combines to give a considerably additional deeply thought out and significantly much more fulfilling encounter. The variations build considerable improvements above Oblivion, which was good anyway, Skyrim though is absolutely incredible.Predecessors to Elder Scrolls V Skyrim produced use of an artificial intelligence technique acknowledged as Radiant AI. Skyrim may make use of an up to date procedure regarded as Radiant Tale. These occasions are produced as random encounters, taking affect from Fallout three, a online game established by Bethesda in 2008.http://elderscrollsvskyrim747.blog.com/2011/08/07/skyrim-108/\n",
      "Elder Scrolls V Skyrim 018The new character method allows you to perform any way you want and define on your own via your steps.Dragons Return.Battle ancient dragons like you've in no way observed. As Dragonborn, study their secrets and techniques and harness their electric power for by yourself.GameplayElder Scrolls V Skyrim retains the standard open-earth gameplay located in the Elder Scrolls series. The participant is cost-free to roam the land of Skyrim at will. Inside Skyrim lie five major metropolitan areas, expanses of wilderness and mountainous ranges. It is a substantial space to transfer, take a look at, and battle inside. When visiting cities, the participant can full actions this kind of as cooking, farming, woodcutting and mining. The participant ranges up by elevating expertise. Eighteen competencies are current in Skyrim, and the class procedure from Oblivion has been removed. Perks are skill-certain qualities, arranged in a system of branching groups known as \"talent trees.\" Each rise in degree will allow for an additional perk to be picked. There are 280 perks, which are balanced between somewhere around fifty ranges despite the fact that the theoretical highest degree is dependent on the character's ability options. The on-display heads-up display only appears when the player's well being, stamina, or magicka are currently being depleted. This offers a wonderful clear image when exploring and highlights what is happening in situations of hazard. Objects and machines layouts can be saved to a speedy-entry menu, and the pause-display screen inventory menu is introduced in a compass-fashion overlay although in the inventory, the participant can rotate and zoom in on acquired items.Weapons can be created by the participant at a forge, and are assigned to every hand individually, making it possible for for dual-wielding. At the expense of stamina, the participant can sprint and jump. Shields can be applied with a bashing assault, and timing is demanded for blocking with a shield. Blunt, bladed, hacking and stabbing weapons just about every have particular strengths and roles as an example, the player is granted the power to carry out finishing moves. There are about eighty-5 spell kinds, which can be made use of in ranged and close battle kinds. Spell types have specific traits a frost spell slows and drains stamina, while a fire spell brings about prolonged hurt by burning, and may perhaps also ignite the natural environment. When practicing archery, arrows get extended to draw again than in prior Elder Scrolls video games, but do better hurt. For the reason that of this, arrows are expensive and viewed as rarities. A player outfitted with a bow can use it defensively in shut combat, in a charging counter assault. The participant can sneak, and non-player characters (NPCs) develop into alerted if the player's actions are detected. Daggers are specifically effective when applied in a sneak attack, inflicting devastating injury. All of this brings together to give a much much more deeply assumed out and substantially a lot more fulfilling encounter. The improvements produce major advancements through Oblivion, which was great anyway, Skyrim while is entirely amazing.Predecessors to Elder Scrolls V Skyrim created use of an artificial intelligence program identified as Radiant AI. These occasions are generated as random encounters, taking influence from Fallout three, a recreation developed by Bethesda in 2008.http://elderscrollsvskyrim747.blog.com/2011/08/07/skyrim-108/\n",
      "Elder Scrolls V Skyrim 263When visiting metropolitan areas, the participant can comprehensive pursuits such as cooking, farming, woodcutting and mining. The participant levels up by elevating knowledge. Eighteen capabilities are current in Skyrim, and the class process from Oblivion has been eliminated. Perks are talent-specific talents, arranged in a method of branching groups termed \"skill trees.\" Each and every rise in stage permits for one more perk to be picked. There are 280 perks, which are balanced among around fifty amounts while the theoretical highest degree is dependent on the character's talent options. The on-display screen heads-up display only appears when the player's well being, stamina, or magicka are getting depleted. This offers a wonderful clean image when exploring and highlights what is occurring in moments of danger. Products and products layouts can be saved to a quick-entry menu, and the pause-display inventory menu is offered in a compass-model overlay when in the stock, the player can rotate and zoom in on acquired things.Weapons can be designed by the participant at a forge, and are assigned to every hand individually, enabling for twin-wielding. At the price tag of stamina, the participant can sprint and jump. Shields can be made use of with a bashing attack, and timing is essential for blocking with a shield. Blunt, bladed, hacking and stabbing weapons each and every have particular strengths and roles as an case in point, the player is granted the skill to conduct finishing moves. There are more than eighty-five spell forms, which can be used in ranged and near overcome forms. Spell sorts have certain features a frost spell slows and drains stamina, even though a fireplace spell results in extended harm as a result of burning, and may perhaps also ignite the natural environment. When practicing archery, arrows take extended to draw back than in past Elder Scrolls games, but do higher injury. Mainly because of this, arrows are expensive and thought to be rarities. A player equipped with a bow can use it defensively in near beat, in a charging counter attack. The player can sneak, and non-player characters (NPCs) grow to be alerted if the player's actions are detected. Daggers are exclusively powerful when used in a sneak attack, inflicting devastating harm. All of this combines to give a significantly additional deeply considered out and much far more fulfilling practical knowledge. The modifications produce substantial improvements about Oblivion, which was beneficial anyway, Skyrim nevertheless is entirely amazing.Predecessors to Elder Scrolls V Skyrim created use of an synthetic intelligence system recognized as Radiant AI. Skyrim can make use of an up to date system identified as Radiant Tale. It lets NPCs to \"do what they want below further parameters\", as said by lead designer Todd Howard. Side quests are dynamically altered centered on the player's actions, and are tailored to the player's talents and progress within the video game. As an example, the player may be sent off to a dungeon that has not been formerly explored, and encounter enemies that are defeated most proficiently with the player's favored overcome fashion. These activities are produced as random encounters, taking impact from Fallout 3, a sport developed by Bethesda in 2008.http://marianobrigg37.inube.com/blog/464190/elder-scrolls-v-skyrim-685/\n",
      "Skyrim 801The potential of Skyrim, even the Empire by itself, hangs in the stability as they wait for the prophesized Dragonborn to arrive a hero born with the power of The Voice, and the only one who can stand among the dragons.Crucial CapabilitiesEpic Fantasy Reborn.Elder Scrolls V Skyrim reimagines the open up-planet fantasy epic, pushing the gameplay and engineering of a virtual entire world to new heights.Are living an additional daily life, in an additional world.Perform any type of character you can consider, and do no matter what you want the legendary freedom of alternative, storytelling, and adventure of The Elder Scrolls is realized like certainly not prior to.All New Graphics and Gameplay Engine.Skyrim's new video game engine brings to existence a comprehensive virtual entire world with rolling clouds, rugged mountains, bustling cities, lush fields, and historical dungeons.You Are What You Play.Pick out from hundreds of weapons, spells, and qualities. The new character system enables you to perform any way you want and define on your own through your actions.Dragons Return.Battle historical dragons like you have under no circumstances witnessed. As Dragonborn, master their secrets and harness their energy for yourself.GameplayElder Scrolls V Skyrim retains the classic open up-entire world gameplay observed in the Elder Scrolls collection. The player is free of charge to roam the land of Skyrim at will. In Skyrim lie five significant cities, expanses of wilderness and mountainous ranges. It really is a big room to shift, discover, and battle inside of. When visiting cities, the participant can comprehensive activities these kinds of as cooking, farming, woodcutting and mining. The participant levels up by elevating capabilities. Eighteen competencies are existing in Skyrim, and the class method from Oblivion has been taken out. Perks are skill-particular qualities, organized in a process of branching groups named \"skill trees.\" Every single rise in stage will allow for another perk to be picked. There are 280 perks, which are balanced involving roughly fifty amounts although the theoretical maximum level depends on the character's talent decisions. The on-screen heads-up display only appears when the player's overall health, stamina, or magicka are staying depleted. This gives a stunning thoroughly clean image when exploring and highlights what is occurring in instances of risk. Goods and machines layouts can be saved to a brief-accessibility menu, and the pause-display stock menu is offered in a compass-type overlay though in the stock, the player can rotate and zoom in on acquired goods.Weapons can be established by the participant at a forge, and are assigned to every hand individually, making it possible for for dual-wielding. At the expense of stamina, the participant can sprint and leap. It enables NPCs to \"do what they want below excess parameters\", as said by lead designer Todd Howard. Aspect quests are dynamically altered based mostly on the player's steps, and are tailored to the player's qualities and progress inside the online game. As an example, the player may be sent off to a dungeon that has not been formerly explored, and deal with enemies that are defeated most properly with the player's preferred fight type. Apart from dynamically altering aspect quests, Radiant Story enables NPCs to interact with their surroundings, such as by operating at bars, mills and mines. These occasions are created as random encounters, taking influence from Fallout three, a video game established by Bethesda in 2008.http://marianobrigg37.inube.com/blog/464190/elder-scrolls-v-skyrim-685/\n",
      "Elder Scrolls V 572The province has erupted into civil war immediately after the assassination of its king. Concurrently, the god Alduin, who normally takes the kind of a huge dragon, has arisen to ruin the globe. The player character is the final living Dovahkiin (Dragonborn) and must fend off Alduin and conserve Skyrim from destruction.The Empire of Tamriel is on the edge. The Large King of Skyrim has been murdered. Alliances form as claims to the throne are produced. In the midst of this conflict, a far much more harmful, ancient evil is awakened. Dragons, prolonged lost to the passages of the Elder Scrolls, have returned to Tamriel. The foreseeable future of Skyrim, even the Empire alone, hangs in the stability as they wait for the prophesized Dragonborn to come a hero born with the electrical power of The Voice, and the only 1 who can stand amongst the dragons.Crucial CharacteristicsEpic Fantasy Reborn.Elder Scrolls V Skyrim reimagines the open-globe fantasy epic, pushing the gameplay and technology of a virtual world to new heights.Dwell a different living, in one more environment.Play any style of character you can envision, and do no matter what you want the legendary flexibility of option, storytelling, and adventure of The Elder Scrolls is realized like in no way previous to.All New Graphics and Gameplay Engine.Skyrim's new video game engine brings to everyday living a finish virtual entire world with rolling clouds, rugged mountains, bustling cities, lush fields, and historical dungeons.You Are What You Play.Opt for from hundreds of weapons, spells, and qualities. The new character procedure enables you to play any way you want and outline all by yourself by way of your steps.Dragons Return.Battle ancient dragons like you've never witnessed. As Dragonborn, find out their tricks and harness their electrical power for by yourself.GameplayElder Scrolls V Skyrim retains the conventional open-globe gameplay uncovered in the Elder Scrolls sequence. The player is free of charge to roam the land of Skyrim at will. Inside of Skyrim lie 5 significant metropolitan areas, expanses of wilderness and mountainous ranges. It is a huge room to transfer, investigate, and battle within just. When going to cities, the participant can finish routines these as cooking, farming, woodcutting and mining. The player levels up by elevating skills. Eighteen abilities are existing in Skyrim, and the class program from Oblivion has been eliminated. Perks are skill-certain qualities, arranged in a technique of branching groups termed \"talent trees.\" Each rise in degree allows for an additional perk to be picked. There are 280 perks, which are balanced between around fifty ranges while the theoretical maximum level depends on the character's ability selections. The on-display screen heads-up display only seems when the player's health, stamina, or magicka are getting depleted. This provides a beautiful thoroughly clean picture when discovering and highlights what is taking place in situations of hazard. Objects and tools layouts can be saved to a fast-entry menu, and the pause-display stock menu is offered in a compass-model overlay though in the inventory, the participant can rotate and zoom in on acquired products.Weapons can be created by the participant at a forge, and are assigned to every single hand individually, allowing for twin-wielding. These occasions are generated as random encounters, taking influence from Fallout 3, a video game created by Bethesda in 2008.http://www.elderscrollsvskyrim.info\n",
      "Elder Scrolls V Skyrim 270Perks are talent-unique qualities, organized in a procedure of branching groups identified as \"skill trees.\" Every rise in level enables for a different perk to be picked. There are 280 perks, which are balanced between roughly fifty levels though the theoretical greatest stage depends on the character's ability decisions. The on-screen heads-up show only seems when the player's wellness, stamina, or magicka are being depleted. This presents a attractive thoroughly clean image when discovering and highlights what is taking place in times of danger. Goods and products layouts can be saved to a quick-accessibility menu, and the pause-display screen stock menu is presented in a compass-model overlay although in the inventory, the player can rotate and zoom in on acquired goods.Weapons can be produced by the player at a forge, and are assigned to just about every hand individually, allowing for dual-wielding. At the cost of stamina, the player can sprint and leap. Shields can be applied with a bashing attack, and timing is necessary for blocking with a shield. Blunt, bladed, hacking and stabbing weapons every single have particular rewards and roles as an example, the participant is granted the ability to carry out finishing moves. There are over eighty-5 spell styles, which can be utilized in ranged and close overcome types. Spell sorts have distinct attributes a frost spell slows and drains stamina, though a fire spell causes extended injury as a result of burning, and might also ignite the natural environment. When practicing archery, arrows just take lengthier to draw back again than in preceding Elder Scrolls video games, but do larger harm. Simply because of this, arrows are costly and regarded as rarities. A player equipped with a bow can use it defensively in near combat, in a charging counter assault. The player can sneak, and non-participant characters (NPCs) turn out to be alerted if the player's movements are detected. Daggers are particularly effective when utilised in a sneak attack, inflicting devastating hurt. All of this combines to give a significantly more deeply assumed out and significantly much more satisfying knowledge. The adjustments produce significant improvements around Oblivion, which was great anyway, Skyrim even though is fully wonderful.Predecessors to Elder Scrolls V Skyrim built use of an artificial intelligence technique known as Radiant AI. Skyrim would make use of an up-to-date technique recognised as Radiant Tale. It enables NPCs to \"do what they want underneath additional parameters\", as mentioned by lead designer Todd Howard. Side quests are dynamically altered based mostly on the player's steps, and are tailored to the player's qualities and progress inside the sport. As an instance, the participant may possibly be sent off to a dungeon that has not been previously explored, and deal with enemies that are defeated most properly with the player's preferred overcome design. Aside from dynamically altering facet quests, Radiant Story allows NPCs to interact with their environment, such as by doing work at bars, mills and mines. NPCs also interact with the participant character as a result of conversation, and may possibly request favors or teaching in a distinct talent, or challenge the player character to a duel. These activities are produced as random encounters, taking affect from Fallout three, a sport established by Bethesda in 2008.http://www.dailystrength.org/people/688650/journal, http://www.myindospace.com/blog/view_blog.php?BlogId=89441#viewdetails, http://www.democratandchronicle.com/apps/pbcs.dll/section?category=PluckPersona&U=38e0cdf53ec04417822d746ce54a2201&plckPersonaPage=BlogViewPost&plckUserId=38e0cdf53ec04417822d746ce54a2201&plckPostId=Blog%3a38e0cdf53ec04417822d746ce54a2201Post%3a533cfe26-a979-41c2-94df-7473f5ac9a9d&plckBlogItemsPerPage=5\n",
      "Elder Scrolls V 991The long term of Skyrim, even the Empire itself, hangs in the harmony as they wait for the prophesized Dragonborn to come a hero born with the electrical power of The Voice, and the only an individual who can stand amongst the dragons.Essential AttributesEpic Fantasy Reborn.Elder Scrolls V Skyrim reimagines the open up-planet fantasy epic, pushing the gameplay and technological innovation of a virtual planet to new heights.Live one more life, in another earth.Play any form of character you can envision, and do what ever you want the legendary liberty of selection, storytelling, and journey of The Elder Scrolls is realized like under no circumstances in advance of.All New Graphics and Gameplay Engine.Skyrim's new sport engine brings to daily life a complete virtual environment with rolling clouds, rugged mountains, bustling metropolitan areas, lush fields, and ancient dungeons.You Are What You Play.Opt for from hundreds of weapons, spells, and abilities. The new character procedure allows you to perform any way you want and define all by yourself through your steps.Dragons Return.Battle ancient dragons like you've by no means seen. As Dragonborn, study their insider secrets and harness their electric power for all by yourself.GameplayElder Scrolls V Skyrim retains the common open-earth gameplay observed in the Elder Scrolls series. The participant is free of charge to roam the land of Skyrim at will. Within just Skyrim lie 5 big metropolitan areas, expanses of wilderness and mountainous ranges. It's a enormous area to move, check out, and battle in. When visiting metropolitan areas, the participant can complete activities these kinds of as cooking, farming, woodcutting and mining. The participant ranges up by raising competencies. Eighteen skills are existing in Skyrim, and the class procedure from Oblivion has been removed. Perks are talent-certain talents, organized in a process of branching teams termed \"skill trees.\" Just about every rise in level lets for another perk to be picked. There are 280 perks, which are balanced in between roughly fifty ranges while the theoretical maximum level depends on the character's ability decisions. The on-display screen heads-up display only appears when the player's well-being, stamina, or magicka are being depleted. This provides a lovely clear image when discovering and highlights what is taking place in situations of danger. Things and machines layouts can be saved to a brief-access menu, and the pause-display screen stock menu is presented in a compass-model overlay when in the stock, the player can rotate and zoom in on acquired goods.Weapons can be developed by the player at a forge, and are assigned to each hand individually, letting for dual-wielding. At the cost of stamina, the participant can sprint and jump. Shields can be employed with a bashing attack, and timing is demanded for blocking with a shield. Blunt, bladed, hacking and stabbing weapons every single have precise benefits and roles as an instance, the participant is granted the capability to complete finishing moves. There are more than eighty-5 spell types, which can be utilized in ranged and close beat sorts. Spell kinds have specific attributes a frost spell slows and drains stamina, whilst a hearth spell triggers extended injury through burning, and may also ignite the setting. When training archery, arrows just take longer to draw again than in earlier Elder Scrolls video games, but do higher harm. Mainly because of this, arrows are highly-priced and regarded rarities. A player equipped with a bow can use it defensively in close fight, in a charging counter attack. These events are produced as random encounters, taking impact from Fallout three, a video game established by Bethesda in 2008.http://elderscrollsv070.wikispaces.com/Elder+Scrolls+V+Skyrim+384, http://elderscrollsv376.wetpaint.com/page/Skyrim+484+%2882%29\n",
      "Elder Scrolls V 814As Dragonborn, study their secrets and techniques and harness their electricity for yourself.GameplayElder Scrolls V Skyrim retains the common open up-world gameplay located in the Elder Scrolls collection. The player is absolutely free to roam the land of Skyrim at will. Within Skyrim lie 5 significant cities, expanses of wilderness and mountainous ranges. It's a big space to move, investigate, and battle within. When browsing metropolitan areas, the participant can finish things to do this sort of as cooking, farming, woodcutting and mining. The participant amounts up by raising capabilities. Eighteen capabilities are current in Skyrim, and the class procedure from Oblivion has been taken out. Perks are talent-particular capabilities, organized in a system of branching teams termed \"skill trees.\" Every single rise in stage allows for another perk to be picked. There are 280 perks, which are balanced involving somewhere around fifty ranges though the theoretical greatest level depends on the character's talent options. The on-display screen heads-up show only seems when the player's well being, stamina, or magicka are staying depleted. This presents a wonderful clean picture when exploring and highlights what is taking place in occasions of danger. Products and devices layouts can be saved to a rapid-access menu, and the pause-screen inventory menu is introduced in a compass-model overlay though in the inventory, the player can rotate and zoom in on acquired goods.Weapons can be created by the player at a forge, and are assigned to every single hand individually, enabling for dual-wielding. At the price tag of stamina, the participant can sprint and leap. Shields can be used with a bashing assault, and timing is demanded for blocking with a shield. Blunt, bladed, hacking and stabbing weapons each have certain merits and roles as an case in point, the player is granted the power to perform finishing moves. There are through eighty-five spell styles, which can be employed in ranged and shut combat sorts. Spell kinds have specific features a frost spell slows and drains stamina, while a hearth spell causes prolonged hurt as a result of burning, and might also ignite the setting. When training archery, arrows consider extended to draw back than in preceding Elder Scrolls games, but do higher damage. For the reason that of this, arrows are highly-priced and regarded as rarities. A player outfitted with a bow can use it defensively in close overcome, in a charging counter assault. The participant can sneak, and non-participant characters (NPCs) become alerted if the player's movements are detected. Daggers are especially powerful when applied in a sneak attack, inflicting devastating hurt. All of this combines to give a a great deal much more deeply assumed out and a great deal extra fulfilling encounter. The modifications produce substantial enhancements over Oblivion, which was beneficial anyway, Skyrim though is absolutely amazing.Predecessors to Elder Scrolls V Skyrim designed use of an artificial intelligence program recognized as Radiant AI. Skyrim makes use of an up-to-date program regarded as Radiant Story. It enables NPCs to \"do what they want under further parameters\", as mentioned by lead designer Todd Howard. These activities are generated as random encounters, taking influence from Fallout 3, a online game created by Bethesda in 2008.http://quizilla.teennick.com/stories/20383084/elder-scrolls-v-950, http://skyrim278.wordpress.com/2011/08/16/elder-scrolls-v-skyrim-160/\n",
      "Skyrim 470The participant is free to roam the land of Skyrim at will. Inside of Skyrim lie five major metropolitan areas, expanses of wilderness and mountainous ranges. It really is a huge area to shift, take a look at, and battle within just. When going to metropolitan areas, the player can total things to do such as cooking, farming, woodcutting and mining. The player amounts up by raising knowledge. Eighteen abilities are existing in Skyrim, and the class system from Oblivion has been eliminated. Perks are talent-precise abilities, arranged in a program of branching teams called \"skill trees.\" Each rise in degree makes it possible for for a further perk to be picked. There are 280 perks, which are balanced between approximately fifty levels while the theoretical highest level depends on the character's talent choices. The on-display heads-up show only appears when the player's well-being, stamina, or magicka are remaining depleted. This presents a wonderful thoroughly clean picture when discovering and highlights what is taking place in occasions of risk. Things and equipment layouts can be saved to a brief-accessibility menu, and the pause-display screen inventory menu is offered in a compass-type overlay whilst in the stock, the participant can rotate and zoom in on acquired items.Weapons can be established by the participant at a forge, and are assigned to each hand individually, permitting for twin-wielding. At the price tag of stamina, the participant can sprint and leap. Shields can be utilized with a bashing attack, and timing is essential for blocking with a shield. Blunt, bladed, hacking and stabbing weapons each have distinct advantages and roles as an illustration, the participant is granted the ability to conduct finishing moves. There are through eighty-5 spell types, which can be used in ranged and shut combat types. Spell varieties have certain traits a frost spell slows and drains stamina, when a fireplace spell brings about prolonged injury through burning, and may well also ignite the atmosphere. When training archery, arrows consider lengthier to draw again than in former Elder Scrolls video games, but do higher damage. Simply because of this, arrows are expensive and regarded as rarities. A participant outfitted with a bow can use it defensively in near overcome, in a charging counter attack. The participant can sneak, and non-player characters (NPCs) become alerted if the player's movements are detected. Daggers are specifically powerful when used in a sneak assault, inflicting devastating harm. All of this combines to give a much a lot more deeply believed out and much a lot more gratifying expertise. The modifications build major improvements around Oblivion, which was beneficial anyway, Skyrim although is fully incredible.Predecessors to Elder Scrolls V Skyrim designed use of an synthetic intelligence method recognized as Radiant AI. Skyrim tends to make use of an updated method identified as Radiant Tale. It permits NPCs to \"do what they want beneath more parameters\", as said by lead designer Todd Howard. Facet quests are dynamically altered based on the player's actions, and are tailored to the player's talents and progress in the recreation. These activities are generated as random encounters, taking affect from Fallout three, a sport developed by Bethesda in 2008.http://ricardowinte123.xanga.com/754160100/elder-scrolls-v-skyrim-797/, http://ricardowinte123.livejournal.com/1378.html, http://ricardowinte1230371.webs.com/apps/blog/show/8109177-skyrim-544\n",
      "Elder Scrolls V 099Within Skyrim lie five key cities, expanses of wilderness and mountainous ranges. It's a huge room to move, check out, and battle within just. When visiting metropolitan areas, the player can finish things to do this sort of as cooking, farming, woodcutting and mining. Perks are talent-precise qualities, organized in a program of branching teams termed \"talent trees.\" Each rise in level makes it possible for for a further perk to be picked. There are 280 perks, which are balanced in between about fifty levels whilst the theoretical highest level depends on the character's ability selections. The on-display heads-up display only appears when the player's well being, stamina, or magicka are remaining depleted. This gives a beautiful clear image when discovering and highlights what is occurring in situations of danger. Items and products layouts can be saved to a speedy-entry menu, and the pause-display screen inventory menu is introduced in a compass-fashion overlay when in the inventory, the participant can rotate and zoom in on acquired products.Weapons can be created by the participant at a forge, and are assigned to each hand individually, letting for twin-wielding. At the price of stamina, the participant can sprint and jump. Shields can be utilized with a bashing assault, and timing is needed for blocking with a shield. Blunt, bladed, hacking and stabbing weapons each and every have certain strengths and roles as an illustration, the player is granted the potential to perform finishing moves. There are through eighty-5 spell types, which can be employed in ranged and shut combat sorts. Spell types have certain characteristics a frost spell slows and drains stamina, when a fireplace spell triggers extended damage via burning, and may also ignite the surroundings. When training archery, arrows acquire for a longer time to draw again than in earlier Elder Scrolls games, but do larger damage. Since of this, arrows are pricey and regarded rarities. A participant outfitted with a bow can use it defensively in near combat, in a charging counter attack. The player can sneak, and non-player characters (NPCs) develop into alerted if the player's actions are detected. Daggers are specifically powerful when applied in a sneak attack, inflicting devastating hurt. All of this brings together to give a substantially a lot more deeply believed out and substantially more satisfying practical knowledge. The modifications develop substantial enhancements over Oblivion, which was very good anyway, Skyrim while is fully amazing.Predecessors to Elder Scrolls V Skyrim built use of an artificial intelligence procedure known as Radiant AI. Skyrim tends to make use of an updated method regarded as Radiant Tale. It allows NPCs to \"do what they want under additional parameters\", as said by lead designer Todd Howard. Facet quests are dynamically altered primarily based on the player's actions, and are tailored to the player's qualities and progress within the sport. As an illustration, the player could possibly be sent off to a dungeon that has not been earlier explored, and confront enemies that are defeated most correctly with the player's favorite battle fashion. Apart from dynamically altering side quests, Radiant Tale will allow NPCs to interact with their environment, like as by doing work at bars, mills and mines. These activities are created as random encounters, taking influence from Fallout 3, a recreation established by Bethesda in 2008.http://marianobrigg37.insanejournal.com/2896.html, http://skyrim831.onsugar.com/Skyrim-182-18797102\n",
      "Elder Scrolls V 002When visiting metropolitan areas, the participant can total activities these kinds of as cooking, farming, woodcutting and mining. The player ranges up by elevating skills. Eighteen abilities are existing in Skyrim, and the class system from Oblivion has been eliminated. Perks are skill-certain qualities, organized in a procedure of branching groups identified as \"skill trees.\" Just about every rise in degree allows for an additional perk to be picked. There are 280 perks, which are balanced among roughly fifty ranges whilst the theoretical maximum level depends on the character's ability decisions. The on-display screen heads-up show only appears when the player's health, stamina, or magicka are becoming depleted. This offers a wonderful clear image when exploring and highlights what is happening in times of danger. Goods and machines layouts can be saved to a quick-entry menu, and the pause-display screen stock menu is presented in a compass-style overlay while in the stock, the player can rotate and zoom in on acquired goods.Weapons can be designed by the participant at a forge, and are assigned to each hand individually, letting for dual-wielding. At the price of stamina, the player can sprint and jump. Shields can be employed with a bashing attack, and timing is required for blocking with a shield. Blunt, bladed, hacking and stabbing weapons just about every have unique positive aspects and roles as an illustration, the participant is granted the capacity to accomplish finishing moves. There are above eighty-5 spell types, which can be employed in ranged and close combat sorts. Spell sorts have particular traits a frost spell slows and drains stamina, although a hearth spell results in extended hurt via burning, and might also ignite the surroundings. When training archery, arrows acquire lengthier to draw again than in earlier Elder Scrolls video games, but do better injury. For the reason that of this, arrows are expensive and viewed as rarities. A player equipped with a bow can use it defensively in shut fight, in a charging counter attack. The player can sneak, and non-player characters (NPCs) turn out to be alerted if the player's actions are detected. Daggers are particularly helpful when utilized in a sneak attack, inflicting devastating harm. All of this combines to give a a great deal much more deeply considered out and considerably far more satisfying practical experience. The adjustments produce important advancements above Oblivion, which was excellent anyway, Skyrim although is thoroughly wonderful.Predecessors to Elder Scrolls V Skyrim designed use of an artificial intelligence method known as Radiant AI. Skyrim can make use of an updated program regarded as Radiant Story. It enables NPCs to \"do what they want below further parameters\", as mentioned by lead designer Todd Howard. Side quests are dynamically altered based mostly on the player's steps, and are tailored to the player's abilities and progress within just the game. As an instance, the participant could possibly be sent off to a dungeon that has not been earlier explored, and face enemies that are defeated most efficiently with the player's favored beat style. These events are produced as random encounters, taking affect from Fallout three, a video game created by Bethesda in 2008.http://www.blogster.com/richardvelas410/elder-scrolls-v-skyrim-336, http://www.blurty.com/talkpost.bml?journal=richardvelas410&itemid=2854\n"
     ]
    }
   ],
   "source": [
    "file_path = \"G:\\\\author profiling\\\\pan14-author-profiling-training-corpus-english-socialmedia-2014-04-16\\\\\"\n",
    "#os.chdir(file_path)\n",
    "files = os.listdir(file_path)\n",
    "print len(files)\n",
    "print files[:5]\n",
    "print files[-1]\n",
    "for file in files[:-1]:\n",
    "    author = {}\n",
    "    author['file'] = file\n",
    "    print file\n",
    "    with open(file_path+file) as f:\n",
    "        tree = ET.parse(f)\n",
    "        raw_text = []\n",
    "        \n",
    "        for node in tree.iter('document'):\n",
    "            raw_text.append(BS(node.text, 'html.parser').get_text().strip())\n",
    "        print '\\n'.join(raw_text)\n",
    "    break"
   ]
  }
 ],
 "metadata": {
  "anaconda-cloud": {},
  "kernelspec": {
   "display_name": "Python [conda root]",
   "language": "python",
   "name": "conda-root-py"
  },
  "language_info": {
   "codemirror_mode": {
    "name": "ipython",
    "version": 2
   },
   "file_extension": ".py",
   "mimetype": "text/x-python",
   "name": "python",
   "nbconvert_exporter": "python",
   "pygments_lexer": "ipython2",
   "version": "2.7.12"
  }
 },
 "nbformat": 4,
 "nbformat_minor": 1
}
